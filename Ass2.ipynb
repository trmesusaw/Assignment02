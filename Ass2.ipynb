{
 "cells": [
  {
   "cell_type": "markdown",
   "metadata": {},
   "source": [
    "# Task 1:"
   ]
  },
  {
   "cell_type": "markdown",
   "metadata": {},
   "source": [
    "\n",
    "1.1\n",
    "Write a Python Program to implement your own myreduce() function which works exactly like\n",
    "Python's built-in function reduce()"
   ]
  },
  {
   "cell_type": "code",
   "execution_count": 9,
   "metadata": {
    "collapsed": true
   },
   "outputs": [
    {
     "data": {
      "text/plain": [
       "-7"
      ]
     },
     "execution_count": 9,
     "metadata": {},
     "output_type": "execute_result"
    }
   ],
   "source": [
    "from functools import reduce\n",
    "def summation (a,b):\n",
    "    return a-b\n",
    "def myreduce(summation,l):\n",
    "    return reduce(summation,l)\n",
    "l = [2,4,5]\n",
    "myreduce(summation,l)\n"
   ]
  },
  {
   "cell_type": "markdown",
   "metadata": {},
   "source": [
    "1.2\n",
    "Write a Python program to implement your own myfilter() function which works exactly like\n",
    "Python's built-in function filter()\n"
   ]
  },
  {
   "cell_type": "code",
   "execution_count": 4,
   "metadata": {
    "collapsed": true
   },
   "outputs": [
    {
     "data": {
      "text/plain": [
       "[2, 6]"
      ]
     },
     "execution_count": 4,
     "metadata": {},
     "output_type": "execute_result"
    }
   ],
   "source": [
    "def myfilter(filter1,l):\n",
    "    return filter(filter1,l)\n",
    "l = [2,5,6,7]\n",
    "list(myfilter(lambda x:x%2==0,l))"
   ]
  },
  {
   "cell_type": "markdown",
   "metadata": {},
   "source": [
    "2.   Implement List comprehensions to produce the following lists.\n"
   ]
  },
  {
   "cell_type": "markdown",
   "metadata": {},
   "source": [
    "['x', 'xx', 'xxx', 'xxxx', 'y', 'yy', 'yyy', 'yyyy', 'z', 'zz', 'zzz', 'zzzz']\n"
   ]
  },
  {
   "cell_type": "code",
   "execution_count": 2,
   "metadata": {
    "collapsed": true
   },
   "outputs": [
    {
     "data": {
      "text/plain": [
       "['x', 'xx', 'xxx', 'xxxx', 'y', 'yy', 'yyy', 'yyyy', 'z', 'zz', 'zzz', 'zzzz']"
      ]
     },
     "execution_count": 2,
     "metadata": {},
     "output_type": "execute_result"
    }
   ],
   "source": [
    "listcom = ['x','y','z']\n",
    "items = [w*(i+1) for w in listcom for i in range(4) ]\n",
    "items     "
   ]
  },
  {
   "cell_type": "markdown",
   "metadata": {},
   "source": [
    "['x', 'y', 'z', 'xx', 'yy', 'zz', 'xx', 'yy', 'zz', 'xxxx', 'yyyy', 'zzzz']"
   ]
  },
  {
   "cell_type": "code",
   "execution_count": 3,
   "metadata": {
    "collapsed": true
   },
   "outputs": [
    {
     "data": {
      "text/plain": [
       "['x', 'y', 'z', 'xx', 'yy', 'zz', 'xxx', 'yyy', 'zzz', 'xxxx', 'yyyy', 'zzzz']"
      ]
     },
     "execution_count": 3,
     "metadata": {},
     "output_type": "execute_result"
    }
   ],
   "source": [
    "items = [w*(i+1) for i in range(4) for w in listcom]\n",
    "items"
   ]
  },
  {
   "cell_type": "markdown",
   "metadata": {},
   "source": [
    "[[2], [3], [4], [3], [4], [5], [4], [5], [6]]"
   ]
  },
  {
   "cell_type": "code",
   "execution_count": 16,
   "metadata": {
    "collapsed": true
   },
   "outputs": [
    {
     "data": {
      "text/plain": [
       "[[2, 3, 4, 5], [3, 4, 5, 6], [4, 5, 6, 7], [5, 6, 7, 8]]"
      ]
     },
     "execution_count": 16,
     "metadata": {},
     "output_type": "execute_result"
    }
   ],
   "source": [
    "listcom2= [2,3,4,5]\n",
    " \n",
    "list1 = [[i+j for i in listcom2] for j in range(4)]\n",
    "list1"
   ]
  },
  {
   "cell_type": "markdown",
   "metadata": {},
   "source": [
    "[[2, 3, 4, 5], [3, 4, 5, 6], [4, 5, 6, 7], [5, 6, 7, 8]]"
   ]
  },
  {
   "cell_type": "code",
   "execution_count": 17,
   "metadata": {
    "collapsed": true
   },
   "outputs": [
    {
     "data": {
      "text/plain": [
       "[[2], [3], [4], [3], [4], [5], [4], [5], [6]]"
      ]
     },
     "execution_count": 17,
     "metadata": {},
     "output_type": "execute_result"
    }
   ],
   "source": [
    "listcom2= [2,3,4]\n",
    " \n",
    "list1 = [[i+j] for i in listcom2 for j in range(3)]\n",
    "list1"
   ]
  },
  {
   "cell_type": "markdown",
   "metadata": {},
   "source": [
    "[(1, 1), (2, 1), (3, 1), (1, 2), (2, 2), (3, 2), (1, 3), (2, 3), (3, 3)]"
   ]
  },
  {
   "cell_type": "code",
   "execution_count": 13,
   "metadata": {
    "collapsed": true
   },
   "outputs": [
    {
     "data": {
      "text/plain": [
       "[[(1, 1)],\n",
       " [(2, 1)],\n",
       " [(3, 1)],\n",
       " [(1, 2)],\n",
       " [(2, 2)],\n",
       " [(3, 2)],\n",
       " [(1, 3)],\n",
       " [(2, 3)],\n",
       " [(3, 3)]]"
      ]
     },
     "execution_count": 13,
     "metadata": {},
     "output_type": "execute_result"
    }
   ],
   "source": [
    "listcom2 = [1,2,3]\n",
    "\n",
    "list1 =[[(j,i)] for i in listcom2 for j in listcom2]\n",
    "list1"
   ]
  },
  {
   "cell_type": "markdown",
   "metadata": {},
   "source": [
    "3.\n",
    "Implement a function longestWord() that takes a list of words and returns the longest one.\n"
   ]
  },
  {
   "cell_type": "code",
   "execution_count": 22,
   "metadata": {},
   "outputs": [
    {
     "name": "stdout",
     "output_type": "stream",
     "text": [
      "another\n"
     ]
    }
   ],
   "source": [
    "Word = \"hello This is Vishnu Kumar Form another side\"\n",
    "list1 = Word.split(\",\")\n",
    "max = len(list1[0])\n",
    "for a in list1:\n",
    "    b = len(a)\n",
    "    if (b>max):\n",
    "        max = b\n",
    "        c = a\n",
    "print(c)"
   ]
  },
  {
   "cell_type": "markdown",
   "metadata": {},
   "source": [
    "# Task 2:"
   ]
  },
  {
   "cell_type": "markdown",
   "metadata": {},
   "source": [
    "1.1\n",
    "\n",
    "Write a Python Program(with class concepts) to find the area of the triangle using the below\n",
    "formula.\n",
    "\n",
    "area = (s*(s-a)*(s-b)*(s-c)) ** 0.5.\n",
    "\n",
    "Function to take the length of the sides of triangle from user should be defined in the parent class and function to calculate the area should be defined in subclass.\n"
   ]
  },
  {
   "cell_type": "code",
   "execution_count": 1,
   "metadata": {},
   "outputs": [
    {
     "name": "stdout",
     "output_type": "stream",
     "text": [
      "Area = 690.8585962409385\n"
     ]
    }
   ],
   "source": [
    "class side:\n",
    "    def __init__ (self,a,b,c):\n",
    "        self.a = a\n",
    "        self.b = b\n",
    "        self.c = c\n",
    "    def __str__(self):\n",
    "        return \"Length = \"+ str(a) +\"Breath = \"+str(b)+\"Height = \"+str(c)\n",
    "    \n",
    "class perimeter(side):\n",
    "    def __init__(self,*args):\n",
    "        super(perimeter,self).__init__(*args)\n",
    "        self.s = (self.a+self.b+self.c)/2\n",
    "         \n",
    "    \n",
    "    def __str__(self):\n",
    "        return \"Perimeter = \"+str(self.s)\n",
    "\n",
    "class area(perimeter):\n",
    "    def __init__(self,*args):\n",
    "        super(area,self).__init__(*args)\n",
    "    \n",
    "    def __str__(self):\n",
    "        return \"Area = \"+str((self.s*(self.s-self.a)*(self.s-self.b)*(self.s-self.c)) ** 0.5)\n",
    "        \n",
    "print(area(45.8,56,30.2))"
   ]
  },
  {
   "cell_type": "markdown",
   "metadata": {},
   "source": [
    "1.2\n",
    "\n",
    "Write a function filter_long_words() that takes a list of words and an integer n and returns the list\n",
    "of words that are longer than n.\n"
   ]
  },
  {
   "cell_type": "code",
   "execution_count": 2,
   "metadata": {},
   "outputs": [
    {
     "name": "stdout",
     "output_type": "stream",
     "text": [
      "Enter the list of worlds: asdf,sdfg,fghj,ghjk,wer,cvgh,ser,chg\n",
      "Enter the number returns the list of words that are longer than n: 4\n",
      "['asdf', 'sdfg', 'fghj', 'ghjk', 'cvgh']\n"
     ]
    }
   ],
   "source": [
    "list1 = input(\"Enter the list of worlds: \").split(\",\")\n",
    "no = int(input(\"Enter the number returns the list of words that are longer than n: \"))\n",
    "max = no\n",
    "list2 = []\n",
    "for a in list1:\n",
    "    b = len(a)\n",
    "    if (b>=max):\n",
    "        list2.append(a)\n",
    "        \n",
    "print(list2)"
   ]
  },
  {
   "cell_type": "markdown",
   "metadata": {},
   "source": [
    "2.1\n",
    "\n",
    "Write a Python program using function concept that maps list of words into a list of integers\n",
    "representing the lengths of the corresponding words.\n",
    "Hint: If a list [ ab,cde,erty] is passed on to the python function output should come as [2,3,4]\n",
    "Here 2,3 and 4 are the lengths of the words in the list."
   ]
  },
  {
   "cell_type": "code",
   "execution_count": 64,
   "metadata": {},
   "outputs": [
    {
     "name": "stdout",
     "output_type": "stream",
     "text": [
      "Enter the list of wordsasg,dfg,sert,ert\n",
      "[3, 3, 4, 3]\n",
      "Assignment 2.2 run successfully\n",
      "Plz visit again!!!\n"
     ]
    }
   ],
   "source": [
    "def l_o_i(string):\n",
    "    try:\n",
    "        list_of_integer = len(string)\n",
    "        return list_of_integer\n",
    "    except Exception as e:\n",
    "        print(e)\n",
    "try:\n",
    "    l_o_w = input(\"Enter the list of words\").split(\",\")\n",
    "    list_of_int = list(map(l_o_i,l_o_w))\n",
    "    print(list_of_int)\n",
    "except Exception as e:\n",
    "    print(e)\n",
    "else:\n",
    "    print(\"Assignment 2.2 run successfully\")\n",
    "finally:\n",
    "    print(\"Plz visit again!!!\")"
   ]
  },
  {
   "cell_type": "markdown",
   "metadata": {},
   "source": [
    "2.2\n",
    "\n",
    "Write a Python function which takes a character (i.e. a string of length 1) and returns True if it is\n",
    "a vowel, False otherwise."
   ]
  },
  {
   "cell_type": "code",
   "execution_count": null,
   "metadata": {},
   "outputs": [
    {
     "name": "stdout",
     "output_type": "stream",
     "text": [
      "Enter the charactera\n",
      "a\n"
     ]
    }
   ],
   "source": [
    "def character():\n",
    "    try:\n",
    "        c = input(\"Enter the character\")\n",
    "        if len(c)>1:\n",
    "            raise Exception(\"Not a character.\")\n",
    "        #if (c == 'a' || c == 'A' || c == 'a' ||c == 'a' || c == 'a' || c == 'a' || c == 'a' || c == 'a' || c == 'a' ||)\n",
    "    except Exception as e:\n",
    "        print(e)\n",
    "    else:\n",
    "        return(c)\n",
    "print(character())\n",
    "def check_vowel():\n",
    "    list_v=['a','e','i','o','u']\n",
    "    a= character()\n",
    "    print (a)\n",
    "    for i in list_v:\n",
    "        if a == i:\n",
    "            flag = 1\n",
    "            break\n",
    "    if flag == 1:\n",
    "        print('Truue')\n",
    "        \n",
    "\n",
    "check_vowel()"
   ]
  },
  {
   "cell_type": "code",
   "execution_count": 32,
   "metadata": {},
   "outputs": [
    {
     "data": {
      "text/plain": [
       "'A'"
      ]
     },
     "execution_count": 32,
     "metadata": {},
     "output_type": "execute_result"
    }
   ],
   "source": [
    "chr(ord('a')-32)"
   ]
  },
  {
   "cell_type": "code",
   "execution_count": 29,
   "metadata": {},
   "outputs": [
    {
     "data": {
      "text/plain": [
       "65"
      ]
     },
     "execution_count": 29,
     "metadata": {},
     "output_type": "execute_result"
    }
   ],
   "source": [
    "ord('A')"
   ]
  },
  {
   "cell_type": "code",
   "execution_count": 3,
   "metadata": {},
   "outputs": [
    {
     "name": "stdout",
     "output_type": "stream",
     "text": [
      "w\n",
      "False\n",
      "f\n",
      "False\n",
      "dr\n",
      "Not a character\n",
      "a\n",
      "True\n"
     ]
    }
   ],
   "source": [
    "def character():\n",
    "    return input()\n",
    "def vol():\n",
    "    flag = 0\n",
    "    l = ['a','e','i','o','u']\n",
    "    while True:      \n",
    "        try:\n",
    "            a = character()\n",
    "            length = len(a)\n",
    "            if len(a)>1:\n",
    "                raise NameError(\"Not a character\")\n",
    "        except NameError as e:\n",
    "            print (e)\n",
    "            continue\n",
    "        else:\n",
    "\n",
    "            for i in l:\n",
    "                if i == a:\n",
    "                    flag =1\n",
    "                    break\n",
    "            if flag ==1:\n",
    "                print(\"True\")\n",
    "            else:\n",
    "                print(\"False\")\n",
    "                continue\n",
    "            break\n",
    "vol()"
   ]
  },
  {
   "cell_type": "code",
   "execution_count": null,
   "metadata": {},
   "outputs": [],
   "source": []
  },
  {
   "cell_type": "code",
   "execution_count": null,
   "metadata": {},
   "outputs": [],
   "source": []
  }
 ],
 "metadata": {
  "kernelspec": {
   "display_name": "Python 3",
   "language": "python",
   "name": "python3"
  },
  "language_info": {
   "codemirror_mode": {
    "name": "ipython",
    "version": 3
   },
   "file_extension": ".py",
   "mimetype": "text/x-python",
   "name": "python",
   "nbconvert_exporter": "python",
   "pygments_lexer": "ipython3",
   "version": "3.7.6"
  }
 },
 "nbformat": 4,
 "nbformat_minor": 4
}
